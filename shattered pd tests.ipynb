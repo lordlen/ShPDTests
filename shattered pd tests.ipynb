{
 "cells": [
  {
   "cell_type": "code",
   "execution_count": 9,
   "id": "7fd08f7a-c5af-4c4e-9f40-2904c2ecc6f4",
   "metadata": {},
   "outputs": [],
   "source": [
    "import random\n",
    "import math"
   ]
  },
  {
   "cell_type": "markdown",
   "id": "1ed917ad-fdc6-4873-8ead-9faa82991889",
   "metadata": {},
   "source": [
    "## Enemies"
   ]
  },
  {
   "cell_type": "code",
   "execution_count": 33,
   "id": "b2238955-0530-47bc-afae-c8a38e39d508",
   "metadata": {},
   "outputs": [],
   "source": [
    "from dataclasses import dataclass\n",
    "\n",
    "@dataclass\n",
    "class Creature:\n",
    "    hp: int\n",
    "    armor: tuple[int, int]\n",
    "    accuracy: int\n",
    "    evasion: int\n",
    "    damage: tuple[int, int]\n",
    "\n",
    "class Creatures:\n",
    "    rat = Creature(8,(0,1), 8, 2, (1,4))\n",
    "    snake = Creature(4,(0,0), 10, 25, (1,4))\n",
    "    gnoll = Creature(12,(0,2), 10, 4, (1,6))\n",
    "    crab = Creature(15,(0,4), 12, 5, (1,7))\n",
    "    slime = Creature(20,(0,0), 12, 5, (2,5))\n",
    "    flies = Creature(50,(0,0), 10, 5, (1,4))\n",
    "    skeleton = Creature(25,(0,5), 12, 9, (2,10))\n",
    "    thief = Creature(20,(0,3), 12, 12, (1,10))\n",
    "    necromancer = Creature(40,(0,5), 12, 14, (2,10))\n",
    "    guard = Creature(40,(0,7), 12, 10, (4,12))\n",
    "    dm100 = Creature(20,(0,4), 11, 8, (2,8))\n",
    "    bat = Creature(30,(0,4), 16, 15, (5,18))\n",
    "    brute = Creature(40,(0,8), 20, 15, (5,25))\n",
    "    shaman = Creature(35,(0,6), 18, 15, (5,10))\n",
    "    spider = Creature(50,(0,6), 20, 14, (10,20))\n",
    "    dm200 = Creature(80,(0,8), 25, 8, (10,25))\n",
    "    ghoul = Creature(45,(0,4), 24, 20, (16,22))\n",
    "    elemental = Creature(65,(0,5), 25, 20, (20,25))\n",
    "    warlock = Creature(70,(0,8), 25, 18, (16,22))\n",
    "    monk = Creature(68,(0,2), 30, 30, (12,25))\n",
    "    golem = Creature(120,(0,12), 28, 15, (25,30))\n",
    "    succubus = Creature(80,(0,10), 40, 25, (25,30))\n",
    "    eye = Creature(100,(0,10), 30, 20, (20,30))\n",
    "    scorpio = Creature(110,(0,16), 36, 24, (30,40))\n",
    "    demon = Creature(60,(0,4), 30, 22, (15,25))\n",
    "    goo = Creature(120,(0,2), 10, 8, (1,8))\n",
    "    goo_enraged = Creature(120,(0,2), 15, 8 * 1.5, (1,12))\n",
    "    tengu = Creature(250,(0,5), 20, 15, (6,12))\n",
    "    dm300 = Creature(400,(0,10), 20, 15, (15,25))\n",
    "    dk = Creature(450,(0,10), 26, 22, (15,25))\n",
    "    fist = Creature(300,(0,15), 36, 20, (18,36))\n"
   ]
  },
  {
   "cell_type": "markdown",
   "id": "1e75cf7d-855d-4264-9307-e48feda20dc1",
   "metadata": {},
   "source": [
    "## Equipment"
   ]
  },
  {
   "cell_type": "code",
   "execution_count": 11,
   "id": "b689e4d0-af31-435b-917e-21c05a58ffea",
   "metadata": {},
   "outputs": [],
   "source": [
    "from dataclasses import dataclass\n",
    "\n",
    "@dataclass\n",
    "class Armor:\n",
    "    min: int\n",
    "    max: int\n",
    "\n",
    "class Armors:\n",
    "    cloth = Armor(0, 2)\n",
    "    leather = Armor(0, 3)\n",
    "    mail = Armor(0, 4)\n",
    "    scale = Armor(0, 5)\n",
    "    plate = Armor(0, 6)"
   ]
  },
  {
   "cell_type": "markdown",
   "id": "00e781ac-c381-4003-8b3e-227100a300e8",
   "metadata": {},
   "source": [
    "## Augmentation factor"
   ]
  },
  {
   "cell_type": "code",
   "execution_count": 12,
   "id": "524ccdcd-1b88-4ac3-a55f-bf010e84459d",
   "metadata": {},
   "outputs": [],
   "source": [
    "class Augmentation:\n",
    "    UNAUGMENTED = (0, 0)\n",
    "    DEFENSE = (-2, 1)\n",
    "    EVASION = (2, -1)"
   ]
  },
  {
   "cell_type": "markdown",
   "id": "2f1feb5d-ed99-4106-a62f-f73f7ba9d89a",
   "metadata": {},
   "source": [
    "## Helper functions"
   ]
  },
  {
   "cell_type": "code",
   "execution_count": null,
   "id": "317e8c01-26d5-404a-afd6-7010537f84ea",
   "metadata": {},
   "outputs": [],
   "source": [
    "def calc_hit_rate(accuracy, evasion):\n",
    "    if evasion >= accuracy:\n",
    "        return accuracy / (2 * evasion)\n",
    "    else:\n",
    "        return 1 - evasion / (2 * accuracy)\n",
    "\n",
    "\n",
    "\n",
    "def calc_percent_change(original, new):\n",
    "    return (new - original)/original * 100\n",
    "\n",
    "def calc_final_damage(damage, defense):\n",
    "    return max(0, damage - defense)\n",
    "\n",
    "def calc_defense_interval_fima(base_armor, armor_level, armor_augment):\n",
    "    base_armor_max = base_armor[1]\n",
    "    max_defense = base_armor_max + armor_level + armor_augment[1] * (armor_level + 2)\n",
    "    return (base_armor[0], max_defense)\n",
    "\n",
    "def calc_final_evasion(base_evasion, armor_level, armor_augment, evasion_multiplier):\n",
    "    return base_evasion * evasion_multiplier + armor_augment[0] * (armor_level + 2)\n",
    "\n",
    "def triangular_discrete(low, high):\n",
    "    # min + (int)((Float() + Float()) * (max - min + 1) / 2f);\n",
    "    u1 = random.uniform(0,1)\n",
    "    u2 = random.uniform(0,1)\n",
    "    return low + math.floor((u1 + u2) * (high - low + 1) / 2) \n",
    "\n",
    "def simulate_damage(defense_interval, damage_interval, hit_chance, num_iterations):\n",
    "    total_damage = 0\n",
    "    for _ in range(num_iterations):\n",
    "        defense_roll = triangular_discrete(defense_interval[0], defense_interval[1])\n",
    "        damage_roll = triangular_discrete(damage_interval[0], damage_interval[1])\n",
    "        evasion_roll = 1 if random.uniform(0, 1) < hit_chance else 0\n",
    "        damage = evasion_roll * calc_final_damage(damage_roll, defense_roll)\n",
    "        total_damage += damage\n",
    "    avg_damage = total_damage / num_iterations\n",
    "    return avg_damage\n",
    "\n",
    "def simulate(accuracy, damage_interval, base_armor, armor_level, hero_level, evasion_multiplier, augmentation, num_simulations):\n",
    "    base_evasion = hero_level + 4\n",
    "    final_evasion = calc_final_evasion(base_evasion, armor_level, augmentation, evasion_multiplier)\n",
    "    final_defense_interval = calc_defense_interval_fima(base_armor, armor_level, augmentation)\n",
    "    hit_chance = calc_hit_rate(accuracy, final_evasion)\n",
    "    avg_damage = simulate_damage(final_defense_interval, damage_interval, hit_chance, num_simulations)\n",
    "    return avg_damage\n"
   ]
  },
  {
   "cell_type": "markdown",
   "id": "8611b357-47e8-4fd2-91c4-8c029f98d71a",
   "metadata": {},
   "source": [
    "## Augmentation simulation"
   ]
  },
  {
   "cell_type": "markdown",
   "id": "823254a3-74e8-40bb-8f9f-815fc8dfc73e",
   "metadata": {},
   "source": [
    "### Variables"
   ]
  },
  {
   "cell_type": "code",
   "execution_count": 14,
   "id": "974982fb-e338-4c76-a055-332b686b4215",
   "metadata": {},
   "outputs": [],
   "source": [
    "# configure variables here\n",
    "creature = Creatures.bat\n",
    "armor = Armors.leather\n",
    "armor_level = 3\n",
    "hero_level = 13\n",
    "evasion_multiplier = 1\n",
    "num_simulations = 1000000"
   ]
  },
  {
   "cell_type": "markdown",
   "id": "effc2d54-cc08-41d3-8c43-cecce02db79a",
   "metadata": {},
   "source": [
    "### Compare augmentations"
   ]
  },
  {
   "cell_type": "code",
   "execution_count": 15,
   "id": "d9bcfb7d-0f2e-4807-a689-d20a62f21502",
   "metadata": {},
   "outputs": [
    {
     "name": "stdout",
     "output_type": "stream",
     "text": [
      "Defense augment percent change: 18.85816722911853\n",
      "Evasion augment percent change: -18.520646035446862\n"
     ]
    }
   ],
   "source": [
    "accuracy = creature.accuracy\n",
    "damage_interval = creature.damage\n",
    "base_armor = (armor.min, armor.max)\n",
    "\n",
    "avg_damage_unaug = simulate(accuracy, damage_interval, base_armor, armor_level, hero_level, evasion_multiplier, Augmentation.UNAUGMENTED, num_simulations)\n",
    "avg_damage_defense = simulate(accuracy, damage_interval, base_armor, armor_level, hero_level, evasion_multiplier, Augmentation.DEFENSE, num_simulations)\n",
    "avg_damage_evasion = simulate(accuracy, damage_interval, base_armor, armor_level, hero_level, evasion_multiplier, Augmentation.EVASION, num_simulations)\n",
    "\n",
    "percent_change_defense = calc_percent_change(avg_damage_unaug, avg_damage_defense)\n",
    "percent_change_evasion = calc_percent_change(avg_damage_unaug, avg_damage_evasion)\n",
    "\n",
    "print(f\"Defense augment percent change: {percent_change_defense}\")\n",
    "print(f\"Evasion augment percent change: {percent_change_evasion}\")"
   ]
  },
  {
   "cell_type": "markdown",
   "id": "151b1b46",
   "metadata": {},
   "source": [
    "### Compare Clover Number of hits"
   ]
  },
  {
   "cell_type": "code",
   "execution_count": 76,
   "id": "058a377a",
   "metadata": {},
   "outputs": [],
   "source": [
    "import numpy as np\n",
    "\n",
    "def calc_clover_proc_chance(level):\n",
    "    return 0.25 * (level + 1)\n",
    "\n",
    "def get_clover_damage(damage_range, extra_strength, clover_level):\n",
    "    (min_damage, max_damage) = damage_range\n",
    "    normal_damage = triangular_discrete(min_damage, max_damage) + triangular_discrete(0, extra_strength)\n",
    "    proc_chance = calc_clover_proc_chance(clover_level)\n",
    "    return random.choices([normal_damage, min_damage, max_damage + extra_strength], weights=[1-proc_chance, 2/5 * proc_chance, 3/5 * proc_chance])[0]\n",
    "\n",
    "def simulate_fight(hp, defense_range, damage_range, extra_strength, clover_level):\n",
    "    curr_hp = hp\n",
    "    num_hits = 0\n",
    "    while(curr_hp > 0):\n",
    "        damage_roll = get_clover_damage(damage_range, extra_strength, clover_level)\n",
    "        (defense_low, defense_high) = defense_range\n",
    "        defense_roll = triangular_discrete(defense_low, defense_high)\n",
    "        curr_hp -= calc_final_damage(damage_roll, defense_roll)\n",
    "        num_hits += 1\n",
    "    return num_hits\n",
    "\n",
    "\n",
    "def simulate_clover_efficacy(enemy, damage_range, extra_strength, num_simulations):\n",
    "    data_points_clover0 = []\n",
    "    data_points_clover1 = []\n",
    "    data_points_clover2 = []\n",
    "    data_points_clover3 = []\n",
    "    data_points_normal = []\n",
    "    for _ in range(num_simulations):\n",
    "        num_hits = simulate_fight(enemy.hp, enemy.armor, damage_range, extra_strength, 0)\n",
    "        data_points_clover0.append(num_hits)\n",
    "    for _ in range(num_simulations):\n",
    "        num_hits = simulate_fight(enemy.hp, enemy.armor, damage_range, extra_strength, 1)\n",
    "        data_points_clover1.append(num_hits)\n",
    "    for _ in range(num_simulations):\n",
    "        num_hits = simulate_fight(enemy.hp, enemy.armor, damage_range, extra_strength, 2)\n",
    "        data_points_clover2.append(num_hits)\n",
    "    for _ in range(num_simulations):\n",
    "        num_hits = simulate_fight(enemy.hp, enemy.armor, damage_range, extra_strength, 3)\n",
    "        data_points_clover3.append(num_hits)\n",
    "    for _ in range(num_simulations):\n",
    "        num_hits = simulate_fight(enemy.hp, enemy.armor, damage_range, extra_strength, -1)\n",
    "        data_points_normal.append(num_hits)\n",
    "\n",
    "    avg_normal = np.average(data_points_normal)\n",
    "    avg0 = np.average(data_points_clover0)\n",
    "    avg1 = np.average(data_points_clover1)\n",
    "    avg2 = np.average(data_points_clover2)\n",
    "    avg3 = np.average(data_points_clover3)\n",
    "\n",
    "    var_normal = np.var(data_points_normal)\n",
    "    var0 = np.var(data_points_clover0)\n",
    "    var1 = np.var(data_points_clover1)\n",
    "    var2 = np.var(data_points_clover2)\n",
    "    var3 = np.var(data_points_clover3)\n",
    "    \n",
    "    \n",
    "    print(f'Num simulations: {num_simulations}')\n",
    "    print('Average number of hits')\n",
    "    print(f'Normal {avg_normal}')\n",
    "    print(f'Clover +0 {avg0}')\n",
    "    print(f'Clover +1 {avg1}')\n",
    "    print(f'Clover +2 {avg2}')\n",
    "    print(f'Clover +3 {avg3}')\n",
    "    print(f'Variance:')\n",
    "    print(f'Normal {var_normal}')\n",
    "    print(f'Clover +0 {var0}')\n",
    "    print(f'Clover +1 {var1}')\n",
    "    print(f'Clover +2 {var2}')\n",
    "    print(f'Clover +3 {var3}')\n",
    "    print(f'% change:')\n",
    "    print(f'Clover +0 {calc_percent_change(avg_normal, avg0)}')\n",
    "    print(f'Clover +1 {calc_percent_change(avg_normal, avg1)}')\n",
    "    print(f'Clover +2 {calc_percent_change(avg_normal, avg2)}')\n",
    "    print(f'Clover +3 {calc_percent_change(avg_normal, avg3)}')\n",
    "    "
   ]
  },
  {
   "cell_type": "code",
   "execution_count": null,
   "id": "b3c61978",
   "metadata": {},
   "outputs": [],
   "source": [
    "# Config variables\n",
    "damage_range = (8,62)\n",
    "extra_strength = 2\n",
    "enemy = Creatures.elemental\n",
    "num_simulations = 500000"
   ]
  },
  {
   "cell_type": "code",
   "execution_count": 97,
   "id": "dafae59a",
   "metadata": {},
   "outputs": [
    {
     "name": "stdout",
     "output_type": "stream",
     "text": [
      "Num simulations: 500000\n",
      "Average number of hits\n",
      "Normal 2.724186\n",
      "Clover +0 2.73914\n",
      "Clover +1 2.775728\n",
      "Clover +2 2.851686\n",
      "Clover +3 2.977816\n",
      "Variance:\n",
      "Normal 0.39974463740399996\n",
      "Clover +0 0.6599640603999994\n",
      "Clover +1 0.8657620700159999\n",
      "Clover +2 1.0024089574040005\n",
      "Clover +3 0.9551518701439998\n",
      "% change:\n",
      "Clover +0 0.5489346175334544\n",
      "Clover +1 1.8920147155884355\n",
      "Clover +2 4.680297160326055\n",
      "Clover +3 9.31030406881174\n"
     ]
    }
   ],
   "source": [
    "simulate_clover_efficacy(enemy, damage_range, extra_strength, num_simulations)"
   ]
  }
 ],
 "metadata": {
  "kernelspec": {
   "display_name": "Python 3 (ipykernel)",
   "language": "python",
   "name": "python3"
  },
  "language_info": {
   "codemirror_mode": {
    "name": "ipython",
    "version": 3
   },
   "file_extension": ".py",
   "mimetype": "text/x-python",
   "name": "python",
   "nbconvert_exporter": "python",
   "pygments_lexer": "ipython3",
   "version": "3.11.0"
  }
 },
 "nbformat": 4,
 "nbformat_minor": 5
}
